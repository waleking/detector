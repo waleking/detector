{
 "cells": [
  {
   "cell_type": "markdown",
   "metadata": {},
   "source": [
    "# process 20newsgroup dataset "
   ]
  },
  {
   "cell_type": "markdown",
   "metadata": {},
   "source": [
    "We download [20newsgroup dataset](http://qwone.com/~jason/20Newsgroups/20news-18828.tar.gz) and store it at /Users/huangwaleking/git/detector/20news-jupyter。"
   ]
  },
  {
   "cell_type": "markdown",
   "metadata": {},
   "source": [
    "Firstly, we read it by nltk."
   ]
  },
  {
   "cell_type": "code",
   "execution_count": 2,
   "metadata": {
    "collapsed": true
   },
   "outputs": [],
   "source": [
    "import nltk\n",
    "newsgroups = \\\n",
    "  nltk.corpus.PlaintextCorpusReader('/Users/huangwaleking/git/detector/20news-18828', '.*/[0-9]+', encoding='latin1')"
   ]
  },
  {
   "cell_type": "code",
   "execution_count": 11,
   "metadata": {
    "collapsed": false
   },
   "outputs": [
    {
     "name": "stdout",
     "output_type": "stream",
     "text": [
      "在20newsgroups中有18828个文件\n",
      "前20个文件的id是：\n",
      " ['alt.atheism/49960', 'alt.atheism/51060', 'alt.atheism/51119', 'alt.atheism/51120', 'alt.atheism/51121', 'alt.atheism/51122', 'alt.atheism/51123', 'alt.atheism/51124', 'alt.atheism/51125', 'alt.atheism/51126', 'alt.atheism/51127', 'alt.atheism/51128', 'alt.atheism/51130', 'alt.atheism/51131', 'alt.atheism/51132', 'alt.atheism/51133', 'alt.atheism/51134', 'alt.atheism/51135', 'alt.atheism/51136', 'alt.atheism/51139']\n",
      "第一个文件的内容是[u'From', u':', u'mathew', u'<', u'mathew', u'@', ...]\n",
      "newsgroups.words的类型是<class 'nltk.corpus.reader.util.StreamBackedCorpusView'>\n"
     ]
    }
   ],
   "source": [
    "ids = newsgroups.fileids()\n",
    "print(\"在20newsgroups中有%s个文件\" % len(ids))\n",
    "print(\"前20个文件的id是：\\n %s\" % ids[:20])\n",
    "print(\"第一个文件的内容是%s\" % newsgroups.words(fileids=ids[0]))\n",
    "print(\"newsgroups.words的类型是%s\" % type(newsgroups.words(fileids=ids[0])))"
   ]
  },
  {
   "cell_type": "code",
   "execution_count": null,
   "metadata": {
    "collapsed": true
   },
   "outputs": [],
   "source": []
  }
 ],
 "metadata": {
  "kernelspec": {
   "display_name": "Python 2",
   "language": "python",
   "name": "python2"
  },
  "language_info": {
   "codemirror_mode": {
    "name": "ipython",
    "version": 2
   },
   "file_extension": ".py",
   "mimetype": "text/x-python",
   "name": "python",
   "nbconvert_exporter": "python",
   "pygments_lexer": "ipython2",
   "version": "2.7.11"
  }
 },
 "nbformat": 4,
 "nbformat_minor": 0
}
